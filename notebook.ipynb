{
 "cells": [
  {
   "cell_type": "code",
   "execution_count": 1,
   "metadata": {},
   "outputs": [
    {
     "name": "stderr",
     "output_type": "stream",
     "text": [
      "c:\\Users\\Convergytics\\anaconda3\\envs\\kamenv\\lib\\site-packages\\xgboost\\compat.py:36: FutureWarning: pandas.Int64Index is deprecated and will be removed from pandas in a future version. Use pandas.Index with the appropriate dtype instead.\n",
      "  from pandas import MultiIndex, Int64Index\n"
     ]
    }
   ],
   "source": [
    "import pandas as pd\n",
    "import numpy as np\n",
    "\n",
    "from sklearn import datasets\n",
    "from sklearn.preprocessing import StandardScaler\n",
    "from sklearn.model_selection import train_test_split\n",
    "from sklearn.metrics import roc_auc_score, precision_recall_curve, auc, precision_recall_fscore_support as score\n",
    "from sklearn.metrics import confusion_matrix, classification_report\n",
    "from sklearn.model_selection import GridSearchCV, RandomizedSearchCV, StratifiedKFold, cross_val_score\n",
    "\n",
    "from hyperopt import hp, tpe, fmin, Trials, space_eval, rand, STATUS_OK\n",
    "\n",
    "from xgboost import XGBClassifier"
   ]
  },
  {
   "cell_type": "code",
   "execution_count": 2,
   "metadata": {},
   "outputs": [
    {
     "name": "stdout",
     "output_type": "stream",
     "text": [
      "<class 'pandas.core.frame.DataFrame'>\n",
      "RangeIndex: 569 entries, 0 to 568\n",
      "Data columns (total 31 columns):\n",
      " #   Column                   Non-Null Count  Dtype  \n",
      "---  ------                   --------------  -----  \n",
      " 0   mean radius              569 non-null    float64\n",
      " 1   mean texture             569 non-null    float64\n",
      " 2   mean perimeter           569 non-null    float64\n",
      " 3   mean area                569 non-null    float64\n",
      " 4   mean smoothness          569 non-null    float64\n",
      " 5   mean compactness         569 non-null    float64\n",
      " 6   mean concavity           569 non-null    float64\n",
      " 7   mean concave points      569 non-null    float64\n",
      " 8   mean symmetry            569 non-null    float64\n",
      " 9   mean fractal dimension   569 non-null    float64\n",
      " 10  radius error             569 non-null    float64\n",
      " 11  texture error            569 non-null    float64\n",
      " 12  perimeter error          569 non-null    float64\n",
      " 13  area error               569 non-null    float64\n",
      " 14  smoothness error         569 non-null    float64\n",
      " 15  compactness error        569 non-null    float64\n",
      " 16  concavity error          569 non-null    float64\n",
      " 17  concave points error     569 non-null    float64\n",
      " 18  symmetry error           569 non-null    float64\n",
      " 19  fractal dimension error  569 non-null    float64\n",
      " 20  worst radius             569 non-null    float64\n",
      " 21  worst texture            569 non-null    float64\n",
      " 22  worst perimeter          569 non-null    float64\n",
      " 23  worst area               569 non-null    float64\n",
      " 24  worst smoothness         569 non-null    float64\n",
      " 25  worst compactness        569 non-null    float64\n",
      " 26  worst concavity          569 non-null    float64\n",
      " 27  worst concave points     569 non-null    float64\n",
      " 28  worst symmetry           569 non-null    float64\n",
      " 29  worst fractal dimension  569 non-null    float64\n",
      " 30  target                   569 non-null    int32  \n",
      "dtypes: float64(30), int32(1)\n",
      "memory usage: 135.7 KB\n"
     ]
    }
   ],
   "source": [
    "## Load the breast cancer dataset\n",
    "data = datasets.load_breast_cancer()\n",
    "\n",
    "df = pd.DataFrame(data.data, columns=data.feature_names)\n",
    "df['target'] = data.target\n",
    "\n",
    "df.info()"
   ]
  },
  {
   "cell_type": "code",
   "execution_count": 3,
   "metadata": {},
   "outputs": [
    {
     "data": {
      "text/plain": [
       "1    0.627417\n",
       "0    0.372583\n",
       "Name: target, dtype: float64"
      ]
     },
     "execution_count": 3,
     "metadata": {},
     "output_type": "execute_result"
    }
   ],
   "source": [
    "# Check the target distribution\n",
    "df['target'].value_counts(normalize=True)"
   ]
  },
  {
   "cell_type": "code",
   "execution_count": 4,
   "metadata": {},
   "outputs": [
    {
     "name": "stdout",
     "output_type": "stream",
     "text": [
      "The training set has 455 rows and 30 columns\n",
      "The test set has 114 rows and 30 columns\n"
     ]
    }
   ],
   "source": [
    "# Train/test split\n",
    "X_train, X_test, y_train, y_test = train_test_split(df.drop('target', axis=1), df['target'], test_size=0.2, random_state=2022)\n",
    "\n",
    "print(f'The training set has {X_train.shape[0]} rows and {X_train.shape[1]} columns')\n",
    "print(f'The test set has {X_test.shape[0]} rows and {X_test.shape[1]} columns')"
   ]
  },
  {
   "cell_type": "markdown",
   "metadata": {},
   "source": [
    "Standardization - Rescale and is calculated by extracting the mean and divided by the standard deviation. After standardization, each feature has zero mean and unit standard deviation.\n",
    "\n",
    "Standardization should be fit on the training dataset only to prevent test dataset information from leaking into the training process.\n",
    "\n",
    "Then, the test dataset is standardized using the fitting results from the training dataset.\n",
    "\n",
    "Different types of scalers - StandardScaler, MinMaxScaler, and RobustScaler."
   ]
  },
  {
   "cell_type": "code",
   "execution_count": 5,
   "metadata": {},
   "outputs": [],
   "source": [
    "sc = StandardScaler() # Initialize the scaler\n",
    "\n",
    "# Standardize the training set\n",
    "X_train_std = sc.fit_transform(X_train)\n",
    "X_train_transformed = pd.DataFrame(X_train_std, index=X_train.index, columns=X_train.columns)"
   ]
  },
  {
   "cell_type": "code",
   "execution_count": 6,
   "metadata": {},
   "outputs": [
    {
     "data": {
      "text/html": [
       "<div>\n",
       "<style scoped>\n",
       "    .dataframe tbody tr th:only-of-type {\n",
       "        vertical-align: middle;\n",
       "    }\n",
       "\n",
       "    .dataframe tbody tr th {\n",
       "        vertical-align: top;\n",
       "    }\n",
       "\n",
       "    .dataframe thead th {\n",
       "        text-align: right;\n",
       "    }\n",
       "</style>\n",
       "<table border=\"1\" class=\"dataframe\">\n",
       "  <thead>\n",
       "    <tr style=\"text-align: right;\">\n",
       "      <th></th>\n",
       "      <th>mean radius</th>\n",
       "      <th>mean texture</th>\n",
       "      <th>mean perimeter</th>\n",
       "      <th>mean area</th>\n",
       "      <th>mean smoothness</th>\n",
       "      <th>mean compactness</th>\n",
       "      <th>mean concavity</th>\n",
       "      <th>mean concave points</th>\n",
       "      <th>mean symmetry</th>\n",
       "      <th>mean fractal dimension</th>\n",
       "      <th>...</th>\n",
       "      <th>worst radius</th>\n",
       "      <th>worst texture</th>\n",
       "      <th>worst perimeter</th>\n",
       "      <th>worst area</th>\n",
       "      <th>worst smoothness</th>\n",
       "      <th>worst compactness</th>\n",
       "      <th>worst concavity</th>\n",
       "      <th>worst concave points</th>\n",
       "      <th>worst symmetry</th>\n",
       "      <th>worst fractal dimension</th>\n",
       "    </tr>\n",
       "  </thead>\n",
       "  <tbody>\n",
       "    <tr>\n",
       "      <th>544</th>\n",
       "      <td>-0.055955</td>\n",
       "      <td>0.334807</td>\n",
       "      <td>-0.074122</td>\n",
       "      <td>-0.183103</td>\n",
       "      <td>-0.042860</td>\n",
       "      <td>-0.042485</td>\n",
       "      <td>-0.646152</td>\n",
       "      <td>-0.643657</td>\n",
       "      <td>-0.702219</td>\n",
       "      <td>0.604869</td>\n",
       "      <td>...</td>\n",
       "      <td>-0.238758</td>\n",
       "      <td>-0.159261</td>\n",
       "      <td>-0.227195</td>\n",
       "      <td>-0.325798</td>\n",
       "      <td>-0.262873</td>\n",
       "      <td>-0.319339</td>\n",
       "      <td>-0.642079</td>\n",
       "      <td>-0.701544</td>\n",
       "      <td>-1.034791</td>\n",
       "      <td>0.058717</td>\n",
       "    </tr>\n",
       "    <tr>\n",
       "      <th>226</th>\n",
       "      <td>-1.051178</td>\n",
       "      <td>-0.913059</td>\n",
       "      <td>-1.046577</td>\n",
       "      <td>-0.927708</td>\n",
       "      <td>0.638402</td>\n",
       "      <td>-0.508435</td>\n",
       "      <td>-1.027508</td>\n",
       "      <td>-0.945635</td>\n",
       "      <td>-0.076080</td>\n",
       "      <td>0.254539</td>\n",
       "      <td>...</td>\n",
       "      <td>-0.994051</td>\n",
       "      <td>-0.992566</td>\n",
       "      <td>-1.015921</td>\n",
       "      <td>-0.864491</td>\n",
       "      <td>0.070490</td>\n",
       "      <td>-0.876590</td>\n",
       "      <td>-1.167024</td>\n",
       "      <td>-1.067218</td>\n",
       "      <td>-0.455101</td>\n",
       "      <td>-0.064280</td>\n",
       "    </tr>\n",
       "    <tr>\n",
       "      <th>325</th>\n",
       "      <td>-0.404138</td>\n",
       "      <td>-0.474877</td>\n",
       "      <td>-0.432019</td>\n",
       "      <td>-0.459996</td>\n",
       "      <td>0.459500</td>\n",
       "      <td>-0.519429</td>\n",
       "      <td>-0.708582</td>\n",
       "      <td>-0.712276</td>\n",
       "      <td>-0.377969</td>\n",
       "      <td>-0.431402</td>\n",
       "      <td>...</td>\n",
       "      <td>-0.525470</td>\n",
       "      <td>-0.773718</td>\n",
       "      <td>-0.548516</td>\n",
       "      <td>-0.535617</td>\n",
       "      <td>0.256654</td>\n",
       "      <td>-0.839398</td>\n",
       "      <td>-0.810443</td>\n",
       "      <td>-0.892444</td>\n",
       "      <td>-0.339480</td>\n",
       "      <td>-0.825978</td>\n",
       "    </tr>\n",
       "    <tr>\n",
       "      <th>559</th>\n",
       "      <td>-0.740715</td>\n",
       "      <td>1.104007</td>\n",
       "      <td>-0.714724</td>\n",
       "      <td>-0.712087</td>\n",
       "      <td>-0.269708</td>\n",
       "      <td>-0.036798</td>\n",
       "      <td>0.291190</td>\n",
       "      <td>-0.188988</td>\n",
       "      <td>-1.566887</td>\n",
       "      <td>0.431176</td>\n",
       "      <td>...</td>\n",
       "      <td>-0.788645</td>\n",
       "      <td>1.929892</td>\n",
       "      <td>-0.745544</td>\n",
       "      <td>-0.719713</td>\n",
       "      <td>-0.115674</td>\n",
       "      <td>-0.016759</td>\n",
       "      <td>0.420449</td>\n",
       "      <td>-0.270292</td>\n",
       "      <td>-1.251779</td>\n",
       "      <td>0.191090</td>\n",
       "    </tr>\n",
       "    <tr>\n",
       "      <th>141</th>\n",
       "      <td>0.593987</td>\n",
       "      <td>-0.296270</td>\n",
       "      <td>0.569841</td>\n",
       "      <td>0.482723</td>\n",
       "      <td>0.059473</td>\n",
       "      <td>0.183097</td>\n",
       "      <td>0.080187</td>\n",
       "      <td>0.292395</td>\n",
       "      <td>0.195992</td>\n",
       "      <td>-0.042801</td>\n",
       "      <td>...</td>\n",
       "      <td>0.803248</td>\n",
       "      <td>-0.071722</td>\n",
       "      <td>0.688279</td>\n",
       "      <td>0.674421</td>\n",
       "      <td>-0.046404</td>\n",
       "      <td>-0.193894</td>\n",
       "      <td>0.029959</td>\n",
       "      <td>0.114733</td>\n",
       "      <td>-0.174760</td>\n",
       "      <td>-0.125503</td>\n",
       "    </tr>\n",
       "  </tbody>\n",
       "</table>\n",
       "<p>5 rows × 30 columns</p>\n",
       "</div>"
      ],
      "text/plain": [
       "     mean radius  mean texture  mean perimeter  mean area  mean smoothness  \\\n",
       "544    -0.055955      0.334807       -0.074122  -0.183103        -0.042860   \n",
       "226    -1.051178     -0.913059       -1.046577  -0.927708         0.638402   \n",
       "325    -0.404138     -0.474877       -0.432019  -0.459996         0.459500   \n",
       "559    -0.740715      1.104007       -0.714724  -0.712087        -0.269708   \n",
       "141     0.593987     -0.296270        0.569841   0.482723         0.059473   \n",
       "\n",
       "     mean compactness  mean concavity  mean concave points  mean symmetry  \\\n",
       "544         -0.042485       -0.646152            -0.643657      -0.702219   \n",
       "226         -0.508435       -1.027508            -0.945635      -0.076080   \n",
       "325         -0.519429       -0.708582            -0.712276      -0.377969   \n",
       "559         -0.036798        0.291190            -0.188988      -1.566887   \n",
       "141          0.183097        0.080187             0.292395       0.195992   \n",
       "\n",
       "     mean fractal dimension  ...  worst radius  worst texture  \\\n",
       "544                0.604869  ...     -0.238758      -0.159261   \n",
       "226                0.254539  ...     -0.994051      -0.992566   \n",
       "325               -0.431402  ...     -0.525470      -0.773718   \n",
       "559                0.431176  ...     -0.788645       1.929892   \n",
       "141               -0.042801  ...      0.803248      -0.071722   \n",
       "\n",
       "     worst perimeter  worst area  worst smoothness  worst compactness  \\\n",
       "544        -0.227195   -0.325798         -0.262873          -0.319339   \n",
       "226        -1.015921   -0.864491          0.070490          -0.876590   \n",
       "325        -0.548516   -0.535617          0.256654          -0.839398   \n",
       "559        -0.745544   -0.719713         -0.115674          -0.016759   \n",
       "141         0.688279    0.674421         -0.046404          -0.193894   \n",
       "\n",
       "     worst concavity  worst concave points  worst symmetry  \\\n",
       "544        -0.642079             -0.701544       -1.034791   \n",
       "226        -1.167024             -1.067218       -0.455101   \n",
       "325        -0.810443             -0.892444       -0.339480   \n",
       "559         0.420449             -0.270292       -1.251779   \n",
       "141         0.029959              0.114733       -0.174760   \n",
       "\n",
       "     worst fractal dimension  \n",
       "544                 0.058717  \n",
       "226                -0.064280  \n",
       "325                -0.825978  \n",
       "559                 0.191090  \n",
       "141                -0.125503  \n",
       "\n",
       "[5 rows x 30 columns]"
      ]
     },
     "execution_count": 6,
     "metadata": {},
     "output_type": "execute_result"
    }
   ],
   "source": [
    "X_train_transformed.head()"
   ]
  },
  {
   "cell_type": "code",
   "execution_count": 7,
   "metadata": {},
   "outputs": [],
   "source": [
    "## Standardize the test set\n",
    "X_test_transformed = pd.DataFrame(sc.transform(X_test), index=X_test.index, columns=X_test.columns)"
   ]
  },
  {
   "cell_type": "code",
   "execution_count": 8,
   "metadata": {},
   "outputs": [
    {
     "data": {
      "text/html": [
       "<div>\n",
       "<style scoped>\n",
       "    .dataframe tbody tr th:only-of-type {\n",
       "        vertical-align: middle;\n",
       "    }\n",
       "\n",
       "    .dataframe tbody tr th {\n",
       "        vertical-align: top;\n",
       "    }\n",
       "\n",
       "    .dataframe thead th {\n",
       "        text-align: right;\n",
       "    }\n",
       "</style>\n",
       "<table border=\"1\" class=\"dataframe\">\n",
       "  <thead>\n",
       "    <tr style=\"text-align: right;\">\n",
       "      <th></th>\n",
       "      <th>count</th>\n",
       "      <th>mean</th>\n",
       "      <th>std</th>\n",
       "      <th>min</th>\n",
       "      <th>25%</th>\n",
       "      <th>50%</th>\n",
       "      <th>75%</th>\n",
       "      <th>max</th>\n",
       "    </tr>\n",
       "  </thead>\n",
       "  <tbody>\n",
       "    <tr>\n",
       "      <th>mean radius</th>\n",
       "      <td>455.0</td>\n",
       "      <td>-5.504754e-16</td>\n",
       "      <td>1.001101</td>\n",
       "      <td>-2.054815</td>\n",
       "      <td>-0.687036</td>\n",
       "      <td>-0.230046</td>\n",
       "      <td>0.470672</td>\n",
       "      <td>4.075816</td>\n",
       "    </tr>\n",
       "    <tr>\n",
       "      <th>mean texture</th>\n",
       "      <td>455.0</td>\n",
       "      <td>1.247354e-15</td>\n",
       "      <td>1.001101</td>\n",
       "      <td>-2.282378</td>\n",
       "      <td>-0.704684</td>\n",
       "      <td>-0.100993</td>\n",
       "      <td>0.575331</td>\n",
       "      <td>4.759493</td>\n",
       "    </tr>\n",
       "    <tr>\n",
       "      <th>mean perimeter</th>\n",
       "      <td>455.0</td>\n",
       "      <td>2.732857e-17</td>\n",
       "      <td>1.001101</td>\n",
       "      <td>-2.005589</td>\n",
       "      <td>-0.693931</td>\n",
       "      <td>-0.224926</td>\n",
       "      <td>0.502630</td>\n",
       "      <td>4.073198</td>\n",
       "    </tr>\n",
       "    <tr>\n",
       "      <th>mean area</th>\n",
       "      <td>455.0</td>\n",
       "      <td>4.489693e-16</td>\n",
       "      <td>1.001101</td>\n",
       "      <td>-1.470697</td>\n",
       "      <td>-0.666133</td>\n",
       "      <td>-0.295436</td>\n",
       "      <td>0.328521</td>\n",
       "      <td>5.407849</td>\n",
       "    </tr>\n",
       "    <tr>\n",
       "      <th>mean smoothness</th>\n",
       "      <td>455.0</td>\n",
       "      <td>4.567775e-16</td>\n",
       "      <td>1.001101</td>\n",
       "      <td>-3.130723</td>\n",
       "      <td>-0.696213</td>\n",
       "      <td>0.005802</td>\n",
       "      <td>0.645559</td>\n",
       "      <td>3.457912</td>\n",
       "    </tr>\n",
       "    <tr>\n",
       "      <th>mean compactness</th>\n",
       "      <td>455.0</td>\n",
       "      <td>-9.857804e-16</td>\n",
       "      <td>1.001101</td>\n",
       "      <td>-1.604877</td>\n",
       "      <td>-0.723306</td>\n",
       "      <td>-0.181815</td>\n",
       "      <td>0.486401</td>\n",
       "      <td>4.575313</td>\n",
       "    </tr>\n",
       "    <tr>\n",
       "      <th>mean concavity</th>\n",
       "      <td>455.0</td>\n",
       "      <td>-7.261591e-16</td>\n",
       "      <td>1.001101</td>\n",
       "      <td>-1.111291</td>\n",
       "      <td>-0.755752</td>\n",
       "      <td>-0.338665</td>\n",
       "      <td>0.506229</td>\n",
       "      <td>4.271613</td>\n",
       "    </tr>\n",
       "    <tr>\n",
       "      <th>mean concave points</th>\n",
       "      <td>455.0</td>\n",
       "      <td>8.159529e-16</td>\n",
       "      <td>1.001101</td>\n",
       "      <td>-1.264112</td>\n",
       "      <td>-0.737026</td>\n",
       "      <td>-0.405323</td>\n",
       "      <td>0.582980</td>\n",
       "      <td>4.005437</td>\n",
       "    </tr>\n",
       "    <tr>\n",
       "      <th>mean symmetry</th>\n",
       "      <td>455.0</td>\n",
       "      <td>-1.581153e-15</td>\n",
       "      <td>1.001101</td>\n",
       "      <td>-2.256385</td>\n",
       "      <td>-0.707810</td>\n",
       "      <td>-0.064899</td>\n",
       "      <td>0.553786</td>\n",
       "      <td>4.090724</td>\n",
       "    </tr>\n",
       "    <tr>\n",
       "      <th>mean fractal dimension</th>\n",
       "      <td>455.0</td>\n",
       "      <td>2.541557e-15</td>\n",
       "      <td>1.001101</td>\n",
       "      <td>-1.885716</td>\n",
       "      <td>-0.719174</td>\n",
       "      <td>-0.138479</td>\n",
       "      <td>0.492999</td>\n",
       "      <td>5.103231</td>\n",
       "    </tr>\n",
       "    <tr>\n",
       "      <th>radius error</th>\n",
       "      <td>455.0</td>\n",
       "      <td>2.030122e-16</td>\n",
       "      <td>1.001101</td>\n",
       "      <td>-1.009903</td>\n",
       "      <td>-0.607232</td>\n",
       "      <td>-0.303332</td>\n",
       "      <td>0.265488</td>\n",
       "      <td>8.721240</td>\n",
       "    </tr>\n",
       "    <tr>\n",
       "      <th>texture error</th>\n",
       "      <td>455.0</td>\n",
       "      <td>1.555776e-15</td>\n",
       "      <td>1.001101</td>\n",
       "      <td>-1.598455</td>\n",
       "      <td>-0.680744</td>\n",
       "      <td>-0.220294</td>\n",
       "      <td>0.489606</td>\n",
       "      <td>6.888078</td>\n",
       "    </tr>\n",
       "    <tr>\n",
       "      <th>perimeter error</th>\n",
       "      <td>455.0</td>\n",
       "      <td>-6.227009e-16</td>\n",
       "      <td>1.001101</td>\n",
       "      <td>-0.995913</td>\n",
       "      <td>-0.609761</td>\n",
       "      <td>-0.295206</td>\n",
       "      <td>0.221016</td>\n",
       "      <td>9.134262</td>\n",
       "    </tr>\n",
       "    <tr>\n",
       "      <th>area error</th>\n",
       "      <td>455.0</td>\n",
       "      <td>-8.940345e-16</td>\n",
       "      <td>1.001101</td>\n",
       "      <td>-0.700895</td>\n",
       "      <td>-0.471519</td>\n",
       "      <td>-0.331360</td>\n",
       "      <td>0.093474</td>\n",
       "      <td>10.677549</td>\n",
       "    </tr>\n",
       "    <tr>\n",
       "      <th>smoothness error</th>\n",
       "      <td>455.0</td>\n",
       "      <td>-9.311233e-16</td>\n",
       "      <td>1.001101</td>\n",
       "      <td>-1.762812</td>\n",
       "      <td>-0.604184</td>\n",
       "      <td>-0.212903</td>\n",
       "      <td>0.364592</td>\n",
       "      <td>7.966949</td>\n",
       "    </tr>\n",
       "    <tr>\n",
       "      <th>compactness error</th>\n",
       "      <td>455.0</td>\n",
       "      <td>1.155608e-15</td>\n",
       "      <td>1.001101</td>\n",
       "      <td>-1.278106</td>\n",
       "      <td>-0.697503</td>\n",
       "      <td>-0.293397</td>\n",
       "      <td>0.374794</td>\n",
       "      <td>6.047404</td>\n",
       "    </tr>\n",
       "    <tr>\n",
       "      <th>concavity error</th>\n",
       "      <td>455.0</td>\n",
       "      <td>7.612958e-16</td>\n",
       "      <td>1.001101</td>\n",
       "      <td>-1.169794</td>\n",
       "      <td>-0.631587</td>\n",
       "      <td>-0.230057</td>\n",
       "      <td>0.402530</td>\n",
       "      <td>10.052384</td>\n",
       "    </tr>\n",
       "    <tr>\n",
       "      <th>concave points error</th>\n",
       "      <td>455.0</td>\n",
       "      <td>3.865040e-16</td>\n",
       "      <td>1.001101</td>\n",
       "      <td>-1.954390</td>\n",
       "      <td>-0.696191</td>\n",
       "      <td>-0.137574</td>\n",
       "      <td>0.480243</td>\n",
       "      <td>4.856586</td>\n",
       "    </tr>\n",
       "    <tr>\n",
       "      <th>symmetry error</th>\n",
       "      <td>455.0</td>\n",
       "      <td>1.268826e-15</td>\n",
       "      <td>1.001101</td>\n",
       "      <td>-1.521464</td>\n",
       "      <td>-0.674059</td>\n",
       "      <td>-0.212744</td>\n",
       "      <td>0.359551</td>\n",
       "      <td>7.005134</td>\n",
       "    </tr>\n",
       "    <tr>\n",
       "      <th>fractal dimension error</th>\n",
       "      <td>455.0</td>\n",
       "      <td>2.650871e-15</td>\n",
       "      <td>1.001101</td>\n",
       "      <td>-1.213320</td>\n",
       "      <td>-0.636628</td>\n",
       "      <td>-0.221094</td>\n",
       "      <td>0.356797</td>\n",
       "      <td>8.196244</td>\n",
       "    </tr>\n",
       "    <tr>\n",
       "      <th>worst radius</th>\n",
       "      <td>455.0</td>\n",
       "      <td>-5.875642e-16</td>\n",
       "      <td>1.001101</td>\n",
       "      <td>-1.762182</td>\n",
       "      <td>-0.678454</td>\n",
       "      <td>-0.255875</td>\n",
       "      <td>0.452346</td>\n",
       "      <td>4.252349</td>\n",
       "    </tr>\n",
       "    <tr>\n",
       "      <th>worst texture</th>\n",
       "      <td>455.0</td>\n",
       "      <td>4.405755e-15</td>\n",
       "      <td>1.001101</td>\n",
       "      <td>-2.302284</td>\n",
       "      <td>-0.735840</td>\n",
       "      <td>-0.049837</td>\n",
       "      <td>0.672360</td>\n",
       "      <td>3.318733</td>\n",
       "    </tr>\n",
       "    <tr>\n",
       "      <th>worst perimeter</th>\n",
       "      <td>455.0</td>\n",
       "      <td>-2.041834e-15</td>\n",
       "      <td>1.001101</td>\n",
       "      <td>-1.723626</td>\n",
       "      <td>-0.691684</td>\n",
       "      <td>-0.268626</td>\n",
       "      <td>0.519486</td>\n",
       "      <td>4.438564</td>\n",
       "    </tr>\n",
       "    <tr>\n",
       "      <th>worst area</th>\n",
       "      <td>455.0</td>\n",
       "      <td>-2.928061e-16</td>\n",
       "      <td>1.001101</td>\n",
       "      <td>-1.250689</td>\n",
       "      <td>-0.646681</td>\n",
       "      <td>-0.329473</td>\n",
       "      <td>0.296859</td>\n",
       "      <td>6.224868</td>\n",
       "    </tr>\n",
       "    <tr>\n",
       "      <th>worst smoothness</th>\n",
       "      <td>455.0</td>\n",
       "      <td>1.155608e-15</td>\n",
       "      <td>1.001101</td>\n",
       "      <td>-2.654000</td>\n",
       "      <td>-0.672001</td>\n",
       "      <td>-0.050733</td>\n",
       "      <td>0.587853</td>\n",
       "      <td>3.902007</td>\n",
       "    </tr>\n",
       "    <tr>\n",
       "      <th>worst compactness</th>\n",
       "      <td>455.0</td>\n",
       "      <td>8.901305e-16</td>\n",
       "      <td>1.001101</td>\n",
       "      <td>-1.431383</td>\n",
       "      <td>-0.706074</td>\n",
       "      <td>-0.237390</td>\n",
       "      <td>0.464532</td>\n",
       "      <td>5.065952</td>\n",
       "    </tr>\n",
       "    <tr>\n",
       "      <th>worst concavity</th>\n",
       "      <td>455.0</td>\n",
       "      <td>-3.552714e-16</td>\n",
       "      <td>1.001101</td>\n",
       "      <td>-1.291481</td>\n",
       "      <td>-0.777430</td>\n",
       "      <td>-0.222350</td>\n",
       "      <td>0.501801</td>\n",
       "      <td>4.613025</td>\n",
       "    </tr>\n",
       "    <tr>\n",
       "      <th>worst concave points</th>\n",
       "      <td>455.0</td>\n",
       "      <td>9.740682e-16</td>\n",
       "      <td>1.001101</td>\n",
       "      <td>-1.752798</td>\n",
       "      <td>-0.753301</td>\n",
       "      <td>-0.239883</td>\n",
       "      <td>0.721373</td>\n",
       "      <td>2.716375</td>\n",
       "    </tr>\n",
       "    <tr>\n",
       "      <th>worst symmetry</th>\n",
       "      <td>455.0</td>\n",
       "      <td>-3.837712e-15</td>\n",
       "      <td>1.001101</td>\n",
       "      <td>-2.118145</td>\n",
       "      <td>-0.646747</td>\n",
       "      <td>-0.147834</td>\n",
       "      <td>0.435815</td>\n",
       "      <td>5.916732</td>\n",
       "    </tr>\n",
       "    <tr>\n",
       "      <th>worst fractal dimension</th>\n",
       "      <td>455.0</td>\n",
       "      <td>-5.094826e-15</td>\n",
       "      <td>1.001101</td>\n",
       "      <td>-1.589331</td>\n",
       "      <td>-0.673473</td>\n",
       "      <td>-0.210442</td>\n",
       "      <td>0.451700</td>\n",
       "      <td>6.819686</td>\n",
       "    </tr>\n",
       "  </tbody>\n",
       "</table>\n",
       "</div>"
      ],
      "text/plain": [
       "                         count          mean       std       min       25%  \\\n",
       "mean radius              455.0 -5.504754e-16  1.001101 -2.054815 -0.687036   \n",
       "mean texture             455.0  1.247354e-15  1.001101 -2.282378 -0.704684   \n",
       "mean perimeter           455.0  2.732857e-17  1.001101 -2.005589 -0.693931   \n",
       "mean area                455.0  4.489693e-16  1.001101 -1.470697 -0.666133   \n",
       "mean smoothness          455.0  4.567775e-16  1.001101 -3.130723 -0.696213   \n",
       "mean compactness         455.0 -9.857804e-16  1.001101 -1.604877 -0.723306   \n",
       "mean concavity           455.0 -7.261591e-16  1.001101 -1.111291 -0.755752   \n",
       "mean concave points      455.0  8.159529e-16  1.001101 -1.264112 -0.737026   \n",
       "mean symmetry            455.0 -1.581153e-15  1.001101 -2.256385 -0.707810   \n",
       "mean fractal dimension   455.0  2.541557e-15  1.001101 -1.885716 -0.719174   \n",
       "radius error             455.0  2.030122e-16  1.001101 -1.009903 -0.607232   \n",
       "texture error            455.0  1.555776e-15  1.001101 -1.598455 -0.680744   \n",
       "perimeter error          455.0 -6.227009e-16  1.001101 -0.995913 -0.609761   \n",
       "area error               455.0 -8.940345e-16  1.001101 -0.700895 -0.471519   \n",
       "smoothness error         455.0 -9.311233e-16  1.001101 -1.762812 -0.604184   \n",
       "compactness error        455.0  1.155608e-15  1.001101 -1.278106 -0.697503   \n",
       "concavity error          455.0  7.612958e-16  1.001101 -1.169794 -0.631587   \n",
       "concave points error     455.0  3.865040e-16  1.001101 -1.954390 -0.696191   \n",
       "symmetry error           455.0  1.268826e-15  1.001101 -1.521464 -0.674059   \n",
       "fractal dimension error  455.0  2.650871e-15  1.001101 -1.213320 -0.636628   \n",
       "worst radius             455.0 -5.875642e-16  1.001101 -1.762182 -0.678454   \n",
       "worst texture            455.0  4.405755e-15  1.001101 -2.302284 -0.735840   \n",
       "worst perimeter          455.0 -2.041834e-15  1.001101 -1.723626 -0.691684   \n",
       "worst area               455.0 -2.928061e-16  1.001101 -1.250689 -0.646681   \n",
       "worst smoothness         455.0  1.155608e-15  1.001101 -2.654000 -0.672001   \n",
       "worst compactness        455.0  8.901305e-16  1.001101 -1.431383 -0.706074   \n",
       "worst concavity          455.0 -3.552714e-16  1.001101 -1.291481 -0.777430   \n",
       "worst concave points     455.0  9.740682e-16  1.001101 -1.752798 -0.753301   \n",
       "worst symmetry           455.0 -3.837712e-15  1.001101 -2.118145 -0.646747   \n",
       "worst fractal dimension  455.0 -5.094826e-15  1.001101 -1.589331 -0.673473   \n",
       "\n",
       "                              50%       75%        max  \n",
       "mean radius             -0.230046  0.470672   4.075816  \n",
       "mean texture            -0.100993  0.575331   4.759493  \n",
       "mean perimeter          -0.224926  0.502630   4.073198  \n",
       "mean area               -0.295436  0.328521   5.407849  \n",
       "mean smoothness          0.005802  0.645559   3.457912  \n",
       "mean compactness        -0.181815  0.486401   4.575313  \n",
       "mean concavity          -0.338665  0.506229   4.271613  \n",
       "mean concave points     -0.405323  0.582980   4.005437  \n",
       "mean symmetry           -0.064899  0.553786   4.090724  \n",
       "mean fractal dimension  -0.138479  0.492999   5.103231  \n",
       "radius error            -0.303332  0.265488   8.721240  \n",
       "texture error           -0.220294  0.489606   6.888078  \n",
       "perimeter error         -0.295206  0.221016   9.134262  \n",
       "area error              -0.331360  0.093474  10.677549  \n",
       "smoothness error        -0.212903  0.364592   7.966949  \n",
       "compactness error       -0.293397  0.374794   6.047404  \n",
       "concavity error         -0.230057  0.402530  10.052384  \n",
       "concave points error    -0.137574  0.480243   4.856586  \n",
       "symmetry error          -0.212744  0.359551   7.005134  \n",
       "fractal dimension error -0.221094  0.356797   8.196244  \n",
       "worst radius            -0.255875  0.452346   4.252349  \n",
       "worst texture           -0.049837  0.672360   3.318733  \n",
       "worst perimeter         -0.268626  0.519486   4.438564  \n",
       "worst area              -0.329473  0.296859   6.224868  \n",
       "worst smoothness        -0.050733  0.587853   3.902007  \n",
       "worst compactness       -0.237390  0.464532   5.065952  \n",
       "worst concavity         -0.222350  0.501801   4.613025  \n",
       "worst concave points    -0.239883  0.721373   2.716375  \n",
       "worst symmetry          -0.147834  0.435815   5.916732  \n",
       "worst fractal dimension -0.210442  0.451700   6.819686  "
      ]
     },
     "execution_count": 8,
     "metadata": {},
     "output_type": "execute_result"
    }
   ],
   "source": [
    "## Summary statistics after standardization\n",
    "X_train_transformed.describe().T"
   ]
  },
  {
   "cell_type": "markdown",
   "metadata": {},
   "source": [
    "We can see that after using StandardScaler, all the features have zero mean and unit standard deviation.\n",
    "\n",
    "So, before standardization the mean and standard deviation can be very different in scale."
   ]
  },
  {
   "cell_type": "code",
   "execution_count": 9,
   "metadata": {},
   "outputs": [
    {
     "data": {
      "text/html": [
       "<div>\n",
       "<style scoped>\n",
       "    .dataframe tbody tr th:only-of-type {\n",
       "        vertical-align: middle;\n",
       "    }\n",
       "\n",
       "    .dataframe tbody tr th {\n",
       "        vertical-align: top;\n",
       "    }\n",
       "\n",
       "    .dataframe thead th {\n",
       "        text-align: right;\n",
       "    }\n",
       "</style>\n",
       "<table border=\"1\" class=\"dataframe\">\n",
       "  <thead>\n",
       "    <tr style=\"text-align: right;\">\n",
       "      <th></th>\n",
       "      <th>count</th>\n",
       "      <th>mean</th>\n",
       "      <th>std</th>\n",
       "      <th>min</th>\n",
       "      <th>25%</th>\n",
       "      <th>50%</th>\n",
       "      <th>75%</th>\n",
       "      <th>max</th>\n",
       "    </tr>\n",
       "  </thead>\n",
       "  <tbody>\n",
       "    <tr>\n",
       "      <th>mean radius</th>\n",
       "      <td>455.0</td>\n",
       "      <td>14.062846</td>\n",
       "      <td>3.450257</td>\n",
       "      <td>6.981000</td>\n",
       "      <td>11.695000</td>\n",
       "      <td>13.270000</td>\n",
       "      <td>15.685000</td>\n",
       "      <td>28.11000</td>\n",
       "    </tr>\n",
       "    <tr>\n",
       "      <th>mean texture</th>\n",
       "      <td>455.0</td>\n",
       "      <td>19.294088</td>\n",
       "      <td>4.203790</td>\n",
       "      <td>9.710000</td>\n",
       "      <td>16.335000</td>\n",
       "      <td>18.870000</td>\n",
       "      <td>21.710000</td>\n",
       "      <td>39.28000</td>\n",
       "    </tr>\n",
       "    <tr>\n",
       "      <th>mean perimeter</th>\n",
       "      <td>455.0</td>\n",
       "      <td>91.534527</td>\n",
       "      <td>23.831936</td>\n",
       "      <td>43.790000</td>\n",
       "      <td>75.015000</td>\n",
       "      <td>86.180000</td>\n",
       "      <td>103.500000</td>\n",
       "      <td>188.50000</td>\n",
       "    </tr>\n",
       "    <tr>\n",
       "      <th>mean area</th>\n",
       "      <td>455.0</td>\n",
       "      <td>647.555385</td>\n",
       "      <td>343.109583</td>\n",
       "      <td>143.500000</td>\n",
       "      <td>419.250000</td>\n",
       "      <td>546.300000</td>\n",
       "      <td>760.150000</td>\n",
       "      <td>2501.00000</td>\n",
       "    </tr>\n",
       "    <tr>\n",
       "      <th>mean smoothness</th>\n",
       "      <td>455.0</td>\n",
       "      <td>0.096379</td>\n",
       "      <td>0.013989</td>\n",
       "      <td>0.052630</td>\n",
       "      <td>0.086650</td>\n",
       "      <td>0.096460</td>\n",
       "      <td>0.105400</td>\n",
       "      <td>0.14470</td>\n",
       "    </tr>\n",
       "    <tr>\n",
       "      <th>mean compactness</th>\n",
       "      <td>455.0</td>\n",
       "      <td>0.104041</td>\n",
       "      <td>0.052810</td>\n",
       "      <td>0.019380</td>\n",
       "      <td>0.065885</td>\n",
       "      <td>0.094450</td>\n",
       "      <td>0.129700</td>\n",
       "      <td>0.34540</td>\n",
       "    </tr>\n",
       "    <tr>\n",
       "      <th>mean concavity</th>\n",
       "      <td>455.0</td>\n",
       "      <td>0.088112</td>\n",
       "      <td>0.079375</td>\n",
       "      <td>0.000000</td>\n",
       "      <td>0.028190</td>\n",
       "      <td>0.061260</td>\n",
       "      <td>0.128250</td>\n",
       "      <td>0.42680</td>\n",
       "    </tr>\n",
       "    <tr>\n",
       "      <th>mean concave points</th>\n",
       "      <td>455.0</td>\n",
       "      <td>0.048266</td>\n",
       "      <td>0.038224</td>\n",
       "      <td>0.000000</td>\n",
       "      <td>0.020125</td>\n",
       "      <td>0.032790</td>\n",
       "      <td>0.070525</td>\n",
       "      <td>0.20120</td>\n",
       "    </tr>\n",
       "    <tr>\n",
       "      <th>mean symmetry</th>\n",
       "      <td>455.0</td>\n",
       "      <td>0.180841</td>\n",
       "      <td>0.026861</td>\n",
       "      <td>0.120300</td>\n",
       "      <td>0.161850</td>\n",
       "      <td>0.179100</td>\n",
       "      <td>0.195700</td>\n",
       "      <td>0.29060</td>\n",
       "    </tr>\n",
       "    <tr>\n",
       "      <th>mean fractal dimension</th>\n",
       "      <td>455.0</td>\n",
       "      <td>0.062771</td>\n",
       "      <td>0.006801</td>\n",
       "      <td>0.049960</td>\n",
       "      <td>0.057885</td>\n",
       "      <td>0.061830</td>\n",
       "      <td>0.066120</td>\n",
       "      <td>0.09744</td>\n",
       "    </tr>\n",
       "    <tr>\n",
       "      <th>radius error</th>\n",
       "      <td>455.0</td>\n",
       "      <td>0.400689</td>\n",
       "      <td>0.283794</td>\n",
       "      <td>0.114400</td>\n",
       "      <td>0.228550</td>\n",
       "      <td>0.314700</td>\n",
       "      <td>0.475950</td>\n",
       "      <td>2.87300</td>\n",
       "    </tr>\n",
       "    <tr>\n",
       "      <th>texture error</th>\n",
       "      <td>455.0</td>\n",
       "      <td>1.212455</td>\n",
       "      <td>0.533761</td>\n",
       "      <td>0.360200</td>\n",
       "      <td>0.849500</td>\n",
       "      <td>1.095000</td>\n",
       "      <td>1.473500</td>\n",
       "      <td>4.88500</td>\n",
       "    </tr>\n",
       "    <tr>\n",
       "      <th>perimeter error</th>\n",
       "      <td>455.0</td>\n",
       "      <td>2.843465</td>\n",
       "      <td>2.097334</td>\n",
       "      <td>0.757000</td>\n",
       "      <td>1.566000</td>\n",
       "      <td>2.225000</td>\n",
       "      <td>3.306500</td>\n",
       "      <td>21.98000</td>\n",
       "    </tr>\n",
       "    <tr>\n",
       "      <th>area error</th>\n",
       "      <td>455.0</td>\n",
       "      <td>39.781697</td>\n",
       "      <td>47.105502</td>\n",
       "      <td>6.802000</td>\n",
       "      <td>17.595000</td>\n",
       "      <td>24.190000</td>\n",
       "      <td>44.180000</td>\n",
       "      <td>542.20000</td>\n",
       "    </tr>\n",
       "    <tr>\n",
       "      <th>smoothness error</th>\n",
       "      <td>455.0</td>\n",
       "      <td>0.007043</td>\n",
       "      <td>0.003027</td>\n",
       "      <td>0.001713</td>\n",
       "      <td>0.005216</td>\n",
       "      <td>0.006399</td>\n",
       "      <td>0.008145</td>\n",
       "      <td>0.03113</td>\n",
       "    </tr>\n",
       "    <tr>\n",
       "      <th>compactness error</th>\n",
       "      <td>455.0</td>\n",
       "      <td>0.025483</td>\n",
       "      <td>0.018196</td>\n",
       "      <td>0.002252</td>\n",
       "      <td>0.012805</td>\n",
       "      <td>0.020150</td>\n",
       "      <td>0.032295</td>\n",
       "      <td>0.13540</td>\n",
       "    </tr>\n",
       "    <tr>\n",
       "      <th>concavity error</th>\n",
       "      <td>455.0</td>\n",
       "      <td>0.031668</td>\n",
       "      <td>0.027101</td>\n",
       "      <td>0.000000</td>\n",
       "      <td>0.014570</td>\n",
       "      <td>0.025440</td>\n",
       "      <td>0.042565</td>\n",
       "      <td>0.30380</td>\n",
       "    </tr>\n",
       "    <tr>\n",
       "      <th>concave points error</th>\n",
       "      <td>455.0</td>\n",
       "      <td>0.011736</td>\n",
       "      <td>0.006012</td>\n",
       "      <td>0.000000</td>\n",
       "      <td>0.007555</td>\n",
       "      <td>0.010910</td>\n",
       "      <td>0.014620</td>\n",
       "      <td>0.04090</td>\n",
       "    </tr>\n",
       "    <tr>\n",
       "      <th>symmetry error</th>\n",
       "      <td>455.0</td>\n",
       "      <td>0.020563</td>\n",
       "      <td>0.008344</td>\n",
       "      <td>0.007882</td>\n",
       "      <td>0.014945</td>\n",
       "      <td>0.018790</td>\n",
       "      <td>0.023560</td>\n",
       "      <td>0.07895</td>\n",
       "    </tr>\n",
       "    <tr>\n",
       "      <th>fractal dimension error</th>\n",
       "      <td>455.0</td>\n",
       "      <td>0.003727</td>\n",
       "      <td>0.002337</td>\n",
       "      <td>0.000895</td>\n",
       "      <td>0.002241</td>\n",
       "      <td>0.003211</td>\n",
       "      <td>0.004560</td>\n",
       "      <td>0.02286</td>\n",
       "    </tr>\n",
       "    <tr>\n",
       "      <th>worst radius</th>\n",
       "      <td>455.0</td>\n",
       "      <td>16.165877</td>\n",
       "      <td>4.678825</td>\n",
       "      <td>7.930000</td>\n",
       "      <td>12.995000</td>\n",
       "      <td>14.970000</td>\n",
       "      <td>18.280000</td>\n",
       "      <td>36.04000</td>\n",
       "    </tr>\n",
       "    <tr>\n",
       "      <th>worst texture</th>\n",
       "      <td>455.0</td>\n",
       "      <td>25.696044</td>\n",
       "      <td>5.946745</td>\n",
       "      <td>12.020000</td>\n",
       "      <td>21.325000</td>\n",
       "      <td>25.400000</td>\n",
       "      <td>29.690000</td>\n",
       "      <td>45.41000</td>\n",
       "    </tr>\n",
       "    <tr>\n",
       "      <th>worst perimeter</th>\n",
       "      <td>455.0</td>\n",
       "      <td>106.572967</td>\n",
       "      <td>32.620063</td>\n",
       "      <td>50.410000</td>\n",
       "      <td>84.035000</td>\n",
       "      <td>97.820000</td>\n",
       "      <td>123.500000</td>\n",
       "      <td>251.20000</td>\n",
       "    </tr>\n",
       "    <tr>\n",
       "      <th>worst area</th>\n",
       "      <td>455.0</td>\n",
       "      <td>865.925714</td>\n",
       "      <td>544.879558</td>\n",
       "      <td>185.200000</td>\n",
       "      <td>513.950000</td>\n",
       "      <td>686.600000</td>\n",
       "      <td>1027.500000</td>\n",
       "      <td>4254.00000</td>\n",
       "    </tr>\n",
       "    <tr>\n",
       "      <th>worst smoothness</th>\n",
       "      <td>455.0</td>\n",
       "      <td>0.132472</td>\n",
       "      <td>0.023123</td>\n",
       "      <td>0.071170</td>\n",
       "      <td>0.116950</td>\n",
       "      <td>0.131300</td>\n",
       "      <td>0.146050</td>\n",
       "      <td>0.22260</td>\n",
       "    </tr>\n",
       "    <tr>\n",
       "      <th>worst compactness</th>\n",
       "      <td>455.0</td>\n",
       "      <td>0.254359</td>\n",
       "      <td>0.158810</td>\n",
       "      <td>0.027290</td>\n",
       "      <td>0.142350</td>\n",
       "      <td>0.216700</td>\n",
       "      <td>0.328050</td>\n",
       "      <td>1.05800</td>\n",
       "    </tr>\n",
       "    <tr>\n",
       "      <th>worst concavity</th>\n",
       "      <td>455.0</td>\n",
       "      <td>0.273847</td>\n",
       "      <td>0.212275</td>\n",
       "      <td>0.000000</td>\n",
       "      <td>0.109000</td>\n",
       "      <td>0.226700</td>\n",
       "      <td>0.380250</td>\n",
       "      <td>1.25200</td>\n",
       "    </tr>\n",
       "    <tr>\n",
       "      <th>worst concave points</th>\n",
       "      <td>455.0</td>\n",
       "      <td>0.114129</td>\n",
       "      <td>0.065184</td>\n",
       "      <td>0.000000</td>\n",
       "      <td>0.065080</td>\n",
       "      <td>0.098510</td>\n",
       "      <td>0.161100</td>\n",
       "      <td>0.29100</td>\n",
       "    </tr>\n",
       "    <tr>\n",
       "      <th>worst symmetry</th>\n",
       "      <td>455.0</td>\n",
       "      <td>0.290234</td>\n",
       "      <td>0.063207</td>\n",
       "      <td>0.156500</td>\n",
       "      <td>0.249400</td>\n",
       "      <td>0.280900</td>\n",
       "      <td>0.317750</td>\n",
       "      <td>0.66380</td>\n",
       "    </tr>\n",
       "    <tr>\n",
       "      <th>worst fractal dimension</th>\n",
       "      <td>455.0</td>\n",
       "      <td>0.083855</td>\n",
       "      <td>0.018150</td>\n",
       "      <td>0.055040</td>\n",
       "      <td>0.071645</td>\n",
       "      <td>0.080040</td>\n",
       "      <td>0.092045</td>\n",
       "      <td>0.20750</td>\n",
       "    </tr>\n",
       "  </tbody>\n",
       "</table>\n",
       "</div>"
      ],
      "text/plain": [
       "                         count        mean         std         min  \\\n",
       "mean radius              455.0   14.062846    3.450257    6.981000   \n",
       "mean texture             455.0   19.294088    4.203790    9.710000   \n",
       "mean perimeter           455.0   91.534527   23.831936   43.790000   \n",
       "mean area                455.0  647.555385  343.109583  143.500000   \n",
       "mean smoothness          455.0    0.096379    0.013989    0.052630   \n",
       "mean compactness         455.0    0.104041    0.052810    0.019380   \n",
       "mean concavity           455.0    0.088112    0.079375    0.000000   \n",
       "mean concave points      455.0    0.048266    0.038224    0.000000   \n",
       "mean symmetry            455.0    0.180841    0.026861    0.120300   \n",
       "mean fractal dimension   455.0    0.062771    0.006801    0.049960   \n",
       "radius error             455.0    0.400689    0.283794    0.114400   \n",
       "texture error            455.0    1.212455    0.533761    0.360200   \n",
       "perimeter error          455.0    2.843465    2.097334    0.757000   \n",
       "area error               455.0   39.781697   47.105502    6.802000   \n",
       "smoothness error         455.0    0.007043    0.003027    0.001713   \n",
       "compactness error        455.0    0.025483    0.018196    0.002252   \n",
       "concavity error          455.0    0.031668    0.027101    0.000000   \n",
       "concave points error     455.0    0.011736    0.006012    0.000000   \n",
       "symmetry error           455.0    0.020563    0.008344    0.007882   \n",
       "fractal dimension error  455.0    0.003727    0.002337    0.000895   \n",
       "worst radius             455.0   16.165877    4.678825    7.930000   \n",
       "worst texture            455.0   25.696044    5.946745   12.020000   \n",
       "worst perimeter          455.0  106.572967   32.620063   50.410000   \n",
       "worst area               455.0  865.925714  544.879558  185.200000   \n",
       "worst smoothness         455.0    0.132472    0.023123    0.071170   \n",
       "worst compactness        455.0    0.254359    0.158810    0.027290   \n",
       "worst concavity          455.0    0.273847    0.212275    0.000000   \n",
       "worst concave points     455.0    0.114129    0.065184    0.000000   \n",
       "worst symmetry           455.0    0.290234    0.063207    0.156500   \n",
       "worst fractal dimension  455.0    0.083855    0.018150    0.055040   \n",
       "\n",
       "                                25%         50%          75%         max  \n",
       "mean radius               11.695000   13.270000    15.685000    28.11000  \n",
       "mean texture              16.335000   18.870000    21.710000    39.28000  \n",
       "mean perimeter            75.015000   86.180000   103.500000   188.50000  \n",
       "mean area                419.250000  546.300000   760.150000  2501.00000  \n",
       "mean smoothness            0.086650    0.096460     0.105400     0.14470  \n",
       "mean compactness           0.065885    0.094450     0.129700     0.34540  \n",
       "mean concavity             0.028190    0.061260     0.128250     0.42680  \n",
       "mean concave points        0.020125    0.032790     0.070525     0.20120  \n",
       "mean symmetry              0.161850    0.179100     0.195700     0.29060  \n",
       "mean fractal dimension     0.057885    0.061830     0.066120     0.09744  \n",
       "radius error               0.228550    0.314700     0.475950     2.87300  \n",
       "texture error              0.849500    1.095000     1.473500     4.88500  \n",
       "perimeter error            1.566000    2.225000     3.306500    21.98000  \n",
       "area error                17.595000   24.190000    44.180000   542.20000  \n",
       "smoothness error           0.005216    0.006399     0.008145     0.03113  \n",
       "compactness error          0.012805    0.020150     0.032295     0.13540  \n",
       "concavity error            0.014570    0.025440     0.042565     0.30380  \n",
       "concave points error       0.007555    0.010910     0.014620     0.04090  \n",
       "symmetry error             0.014945    0.018790     0.023560     0.07895  \n",
       "fractal dimension error    0.002241    0.003211     0.004560     0.02286  \n",
       "worst radius              12.995000   14.970000    18.280000    36.04000  \n",
       "worst texture             21.325000   25.400000    29.690000    45.41000  \n",
       "worst perimeter           84.035000   97.820000   123.500000   251.20000  \n",
       "worst area               513.950000  686.600000  1027.500000  4254.00000  \n",
       "worst smoothness           0.116950    0.131300     0.146050     0.22260  \n",
       "worst compactness          0.142350    0.216700     0.328050     1.05800  \n",
       "worst concavity            0.109000    0.226700     0.380250     1.25200  \n",
       "worst concave points       0.065080    0.098510     0.161100     0.29100  \n",
       "worst symmetry             0.249400    0.280900     0.317750     0.66380  \n",
       "worst fractal dimension    0.071645    0.080040     0.092045     0.20750  "
      ]
     },
     "execution_count": 9,
     "metadata": {},
     "output_type": "execute_result"
    }
   ],
   "source": [
    "X_train.describe().T"
   ]
  },
  {
   "cell_type": "markdown",
   "metadata": {},
   "source": [
    "XGB Base Model with default hyperparameters"
   ]
  },
  {
   "cell_type": "code",
   "execution_count": 11,
   "metadata": {},
   "outputs": [],
   "source": [
    "pd.set_option('display.max_columns', None)"
   ]
  },
  {
   "cell_type": "code",
   "execution_count": 12,
   "metadata": {},
   "outputs": [
    {
     "data": {
      "text/plain": [
       "{'objective': 'binary:logistic',\n",
       " 'use_label_encoder': True,\n",
       " 'base_score': None,\n",
       " 'booster': None,\n",
       " 'colsample_bylevel': None,\n",
       " 'colsample_bynode': None,\n",
       " 'colsample_bytree': None,\n",
       " 'enable_categorical': False,\n",
       " 'gamma': None,\n",
       " 'gpu_id': None,\n",
       " 'importance_type': None,\n",
       " 'interaction_constraints': None,\n",
       " 'learning_rate': None,\n",
       " 'max_delta_step': None,\n",
       " 'max_depth': None,\n",
       " 'min_child_weight': None,\n",
       " 'missing': nan,\n",
       " 'monotone_constraints': None,\n",
       " 'n_estimators': 100,\n",
       " 'n_jobs': None,\n",
       " 'num_parallel_tree': None,\n",
       " 'predictor': None,\n",
       " 'random_state': None,\n",
       " 'reg_alpha': None,\n",
       " 'reg_lambda': None,\n",
       " 'scale_pos_weight': None,\n",
       " 'subsample': None,\n",
       " 'tree_method': None,\n",
       " 'validate_parameters': None,\n",
       " 'verbosity': None}"
      ]
     },
     "execution_count": 12,
     "metadata": {},
     "output_type": "execute_result"
    }
   ],
   "source": [
    "xgboost = XGBClassifier()\n",
    "\n",
    "xgboost.get_params()"
   ]
  },
  {
   "cell_type": "code",
   "execution_count": 13,
   "metadata": {},
   "outputs": [
    {
     "name": "stdout",
     "output_type": "stream",
     "text": [
      "[16:37:26] WARNING: D:\\bld\\xgboost-split_1645118015404\\work\\src\\learner.cc:1115: Starting in XGBoost 1.3.0, the default evaluation metric used with the objective 'binary:logistic' was changed from 'error' to 'logloss'. Explicitly set eval_metric if you'd like to restore the old behavior.\n"
     ]
    },
    {
     "name": "stderr",
     "output_type": "stream",
     "text": [
      "c:\\Users\\Convergytics\\anaconda3\\envs\\kamenv\\lib\\site-packages\\xgboost\\sklearn.py:1224: UserWarning: The use of label encoder in XGBClassifier is deprecated and will be removed in a future release. To remove this warning, do the following: 1) Pass option use_label_encoder=False when constructing XGBClassifier object; and 2) Encode your labels (y) as integers starting with 0, i.e. 0, 1, 2, ..., [num_class - 1].\n",
      "  warnings.warn(label_encoder_deprecation_msg, UserWarning)\n",
      "c:\\Users\\Convergytics\\anaconda3\\envs\\kamenv\\lib\\site-packages\\xgboost\\data.py:262: FutureWarning: pandas.Int64Index is deprecated and will be removed from pandas in a future version. Use pandas.Index with the appropriate dtype instead.\n",
      "  elif isinstance(data.columns, (pd.Int64Index, pd.RangeIndex)):\n",
      "c:\\Users\\Convergytics\\anaconda3\\envs\\kamenv\\lib\\site-packages\\xgboost\\data.py:262: FutureWarning: pandas.Int64Index is deprecated and will be removed from pandas in a future version. Use pandas.Index with the appropriate dtype instead.\n",
      "  elif isinstance(data.columns, (pd.Int64Index, pd.RangeIndex)):\n"
     ]
    }
   ],
   "source": [
    "xgboost = XGBClassifier(seed=2022).fit(X_train_transformed, y_train)\n",
    "\n",
    "xgboost_score = xgboost.score(X_test_transformed, y_test)\n",
    "\n",
    "xgboost_predictions = xgboost.predict(X_test_transformed)\n",
    "\n",
    "xgboost_predct_proba = xgboost.predict_proba(X_test_transformed)[:,1]"
   ]
  },
  {
   "cell_type": "markdown",
   "metadata": {},
   "source": [
    "We want to capture as many cancer patients as possible for this dataset, so we will use recall as the performance metric to optimize."
   ]
  },
  {
   "cell_type": "code",
   "execution_count": 15,
   "metadata": {},
   "outputs": [
    {
     "data": {
      "text/plain": [
       "0.956140350877193"
      ]
     },
     "execution_count": 15,
     "metadata": {},
     "output_type": "execute_result"
    }
   ],
   "source": [
    "xgboost_score"
   ]
  },
  {
   "cell_type": "code",
   "execution_count": 16,
   "metadata": {},
   "outputs": [
    {
     "data": {
      "text/plain": [
       "array([1, 1, 1, 1, 1, 1, 0, 0, 0, 0, 0, 0, 0, 0, 0, 1, 1, 1, 1, 1, 1, 1,\n",
       "       1, 1, 0, 1, 1, 1, 0, 1, 1, 1, 0, 0, 1, 0, 0, 1, 0, 1, 1, 0, 0, 1,\n",
       "       0, 1, 0, 1, 0, 0, 1, 0, 0, 1, 0, 0, 1, 1, 1, 1, 0, 1, 1, 0, 1, 1,\n",
       "       1, 1, 0, 1, 1, 0, 1, 1, 0, 1, 0, 0, 0, 1, 1, 1, 0, 1, 1, 0, 0, 0,\n",
       "       1, 0, 1, 0, 1, 1, 0, 1, 1, 1, 1, 1, 0, 1, 0, 0, 1, 1, 1, 0, 0, 1,\n",
       "       1, 1, 0, 1])"
      ]
     },
     "execution_count": 16,
     "metadata": {},
     "output_type": "execute_result"
    }
   ],
   "source": [
    "xgboost_predictions"
   ]
  },
  {
   "cell_type": "code",
   "execution_count": 17,
   "metadata": {},
   "outputs": [
    {
     "data": {
      "text/plain": [
       "array([[44,  2],\n",
       "       [ 3, 65]], dtype=int64)"
      ]
     },
     "execution_count": 17,
     "metadata": {},
     "output_type": "execute_result"
    }
   ],
   "source": [
    "confusion_matrix(y_test, xgboost_predictions)"
   ]
  },
  {
   "cell_type": "code",
   "execution_count": 19,
   "metadata": {},
   "outputs": [
    {
     "name": "stdout",
     "output_type": "stream",
     "text": [
      "              precision    recall  f1-score   support\n",
      "\n",
      "           0       0.94      0.96      0.95        46\n",
      "           1       0.97      0.96      0.96        68\n",
      "\n",
      "    accuracy                           0.96       114\n",
      "   macro avg       0.95      0.96      0.95       114\n",
      "weighted avg       0.96      0.96      0.96       114\n",
      "\n"
     ]
    }
   ],
   "source": [
    "print(classification_report(y_test, xgboost_predictions))"
   ]
  },
  {
   "cell_type": "code",
   "execution_count": 14,
   "metadata": {},
   "outputs": [
    {
     "name": "stdout",
     "output_type": "stream",
     "text": [
      "The recall value for the baseline XGBoost model is 0.956\n"
     ]
    }
   ],
   "source": [
    "## Get performance metrics\n",
    "precision, recall, fscore, support = score(y_test, xgboost_predictions)\n",
    "\n",
    "print(f'The recall value for the baseline XGBoost model is {recall[1]:.3f}')"
   ]
  },
  {
   "cell_type": "markdown",
   "metadata": {},
   "source": [
    "Grid Search\n",
    "\n",
    "It is an exhaustive hyperparameter search method. It trains models for every combination of specified hyperparameter values. It can take a long time to run if we test out more hyperparameters and values.\n",
    "\n",
    "So we would like to keep the grid search space relatively small so the process can finish in a reasonable timeframe.\n",
    "\n",
    "We have 3 hyperparameters for this example:\n",
    "- colsample_bytree - percentage of columns to be randomly sampled for each tree.\n",
    "- reg_alpha - provides l1 regularization to the weight, higher values result in more conservative models.\n",
    "- reg_lambda - provides l2 regularization to the weight, higher values result in more conservative models.\n",
    "\n",
    "Scoring is the metric to evaluate the cross-validation results for each model. Since recall is the evaluation metric for the model, we set scoring = ['recall']. It can take more than one metric in the list.\n",
    "\n",
    "StratifiedKFold is used for the cross-validation. It helps us keep the class ratio in the folds the same as the training dataset. \n",
    "\n",
    "- n_splits = 3 means we are doing 3-fold cross-validation.\n",
    "- shuffle = True means the data is shuffled before splitting.\n",
    "- random_state = 2022 makes the shuffle reproducible."
   ]
  },
  {
   "cell_type": "code",
   "execution_count": 20,
   "metadata": {},
   "outputs": [],
   "source": [
    "## Define the grid search space\n",
    "param_grid = {\n",
    "    # Percentage of features to be randomly selected for each tree\n",
    "    'colsample_bytree': [0.3, 0.5, 0.8, 1.0],\n",
    "    'reg_alpha': [0, 0.5, 1.0, 5.0],\n",
    "    'reg_lambda': [0, 0.5, 1.0, 5.0]\n",
    "}"
   ]
  },
  {
   "cell_type": "code",
   "execution_count": 21,
   "metadata": {},
   "outputs": [],
   "source": [
    "## Setup scoring metrics\n",
    "scoring = ['recall']\n",
    "\n",
    "# Setup the k-fold cross-validation\n",
    "kfold = StratifiedKFold(n_splits=3, shuffle=True, random_state=2022)"
   ]
  },
  {
   "cell_type": "markdown",
   "metadata": {},
   "source": [
    "We specified a few options for GridSearchCV.\n",
    "\n",
    "- estimator=xgboost, means we are using XGBoost as the model.\n",
    "- param_grid=param_grid\n",
    "- scoring=scoring\n",
    "- refit='recall', enables refitting the model with the best parameters on the whole training dataset\n",
    "- n_jobs=-1, means parallel processing using all the processors.\n",
    "- cv=kfold\n",
    "- verbose, controls the number of messages returned by grid search. verbose=0 means silent output.\n",
    "\n",
    "After fitting GridSearchCV on the training dataset, we will have 64 hyperparameter combinations. Since 3-fold cv is used, there are 192 (64*3) models trained in total."
   ]
  },
  {
   "cell_type": "code",
   "execution_count": 22,
   "metadata": {},
   "outputs": [],
   "source": [
    "## Define the grid search\n",
    "grid_search = GridSearchCV(estimator=xgboost, param_grid=param_grid, scoring=scoring, refit='recall', cv=kfold, n_jobs=-1, verbose=1)"
   ]
  },
  {
   "cell_type": "code",
   "execution_count": 23,
   "metadata": {},
   "outputs": [
    {
     "name": "stdout",
     "output_type": "stream",
     "text": [
      "Fitting 3 folds for each of 64 candidates, totalling 192 fits\n",
      "[17:00:43] WARNING: D:\\bld\\xgboost-split_1645118015404\\work\\src\\learner.cc:1115: Starting in XGBoost 1.3.0, the default evaluation metric used with the objective 'binary:logistic' was changed from 'error' to 'logloss'. Explicitly set eval_metric if you'd like to restore the old behavior.\n"
     ]
    },
    {
     "name": "stderr",
     "output_type": "stream",
     "text": [
      "c:\\Users\\Convergytics\\anaconda3\\envs\\kamenv\\lib\\site-packages\\xgboost\\sklearn.py:1224: UserWarning: The use of label encoder in XGBClassifier is deprecated and will be removed in a future release. To remove this warning, do the following: 1) Pass option use_label_encoder=False when constructing XGBClassifier object; and 2) Encode your labels (y) as integers starting with 0, i.e. 0, 1, 2, ..., [num_class - 1].\n",
      "  warnings.warn(label_encoder_deprecation_msg, UserWarning)\n",
      "c:\\Users\\Convergytics\\anaconda3\\envs\\kamenv\\lib\\site-packages\\xgboost\\data.py:262: FutureWarning: pandas.Int64Index is deprecated and will be removed from pandas in a future version. Use pandas.Index with the appropriate dtype instead.\n",
      "  elif isinstance(data.columns, (pd.Int64Index, pd.RangeIndex)):\n"
     ]
    }
   ],
   "source": [
    "## Fit the grid search\n",
    "grid_result = grid_search.fit(X_train_transformed, y_train)"
   ]
  },
  {
   "cell_type": "code",
   "execution_count": 24,
   "metadata": {},
   "outputs": [
    {
     "data": {
      "text/plain": [
       "GridSearchCV(cv=StratifiedKFold(n_splits=3, random_state=2022, shuffle=True),\n",
       "             estimator=XGBClassifier(base_score=0.5, booster='gbtree',\n",
       "                                     colsample_bylevel=1, colsample_bynode=1,\n",
       "                                     colsample_bytree=1,\n",
       "                                     enable_categorical=False, gamma=0,\n",
       "                                     gpu_id=-1, importance_type=None,\n",
       "                                     interaction_constraints='',\n",
       "                                     learning_rate=0.300000012,\n",
       "                                     max_delta_step=0, max_depth=6,\n",
       "                                     min_child_weigh...\n",
       "                                     n_estimators=100, n_jobs=8,\n",
       "                                     num_parallel_tree=1, predictor='auto',\n",
       "                                     random_state=2022, reg_alpha=0,\n",
       "                                     reg_lambda=1, scale_pos_weight=1,\n",
       "                                     seed=2022, subsample=1,\n",
       "                                     tree_method='exact', validate_parameters=1,\n",
       "                                     verbosity=None),\n",
       "             n_jobs=-1,\n",
       "             param_grid={'colsample_bytree': [0.3, 0.5, 0.8, 1.0],\n",
       "                         'reg_alpha': [0, 0.5, 1.0, 5.0],\n",
       "                         'reg_lambda': [0, 0.5, 1.0, 5.0]},\n",
       "             refit='recall', scoring=['recall'], verbose=1)"
      ]
     },
     "execution_count": 24,
     "metadata": {},
     "output_type": "execute_result"
    }
   ],
   "source": [
    "# Print grid search results\n",
    "grid_result"
   ]
  },
  {
   "cell_type": "code",
   "execution_count": 25,
   "metadata": {},
   "outputs": [
    {
     "name": "stdout",
     "output_type": "stream",
     "text": [
      "The best score is 0.990\n",
      "The best score standard deviation is 0.008\n",
      "The best hyperparameters are {'colsample_bytree': 0.5, 'reg_alpha': 0, 'reg_lambda': 0}\n"
     ]
    }
   ],
   "source": [
    "## Print the best score and the best parameters\n",
    "print(f'The best score is {grid_result.best_score_:.3f}')\n",
    "print(f'The best score standard deviation is {grid_result.cv_results_[\"std_test_recall\"][grid_result.best_index_]:.3f}')\n",
    "print(f'The best hyperparameters are {grid_result.best_params_}')"
   ]
  },
  {
   "cell_type": "markdown",
   "metadata": {},
   "source": [
    "The grid search cross-validation results show that 50% of features and no l1&l2 regularization gave us the best results. The best recall is 99% and the standard deviation of the score is 0.8%."
   ]
  },
  {
   "cell_type": "code",
   "execution_count": 26,
   "metadata": {},
   "outputs": [
    {
     "name": "stderr",
     "output_type": "stream",
     "text": [
      "c:\\Users\\Convergytics\\anaconda3\\envs\\kamenv\\lib\\site-packages\\xgboost\\data.py:262: FutureWarning: pandas.Int64Index is deprecated and will be removed from pandas in a future version. Use pandas.Index with the appropriate dtype instead.\n",
      "  elif isinstance(data.columns, (pd.Int64Index, pd.RangeIndex)):\n"
     ]
    }
   ],
   "source": [
    "## Make predictions using the best model\n",
    "grid_predict = grid_result.predict(X_test_transformed)\n",
    "\n",
    "## Get predictions probabilities\n",
    "grid_predict_prob = grid_result.predict_proba(X_test_transformed)[:,1]"
   ]
  },
  {
   "cell_type": "code",
   "execution_count": 27,
   "metadata": {},
   "outputs": [
    {
     "data": {
      "text/plain": [
       "array([[43,  3],\n",
       "       [ 2, 66]], dtype=int64)"
      ]
     },
     "execution_count": 27,
     "metadata": {},
     "output_type": "execute_result"
    }
   ],
   "source": [
    "## Get the confusion matrix\n",
    "confusion_matrix(y_test, grid_predict)"
   ]
  },
  {
   "cell_type": "code",
   "execution_count": 28,
   "metadata": {},
   "outputs": [
    {
     "name": "stdout",
     "output_type": "stream",
     "text": [
      "              precision    recall  f1-score   support\n",
      "\n",
      "           0       0.96      0.93      0.95        46\n",
      "           1       0.96      0.97      0.96        68\n",
      "\n",
      "    accuracy                           0.96       114\n",
      "   macro avg       0.96      0.95      0.95       114\n",
      "weighted avg       0.96      0.96      0.96       114\n",
      "\n"
     ]
    }
   ],
   "source": [
    "print(classification_report(y_test, grid_predict))"
   ]
  },
  {
   "cell_type": "code",
   "execution_count": 29,
   "metadata": {},
   "outputs": [
    {
     "name": "stdout",
     "output_type": "stream",
     "text": [
      "The recall value for the grid search XGBoost model is 0.971\n"
     ]
    }
   ],
   "source": [
    "## Get performance metrics\n",
    "precision, recall, fscore, support = score(y_test, grid_predict)\n",
    "\n",
    "print(f'The recall value for the grid search XGBoost model is {recall[1]:.3f}')"
   ]
  },
  {
   "cell_type": "markdown",
   "metadata": {},
   "source": [
    "We can see that the grid search recall value is better than the baseline xgboost model."
   ]
  },
  {
   "cell_type": "markdown",
   "metadata": {},
   "source": [
    "Random Search\n",
    "\n",
    "It randomly picks a fixed number of hyperparameter combinations, we can afford to try more.\n",
    "\n",
    "- learning_rate, shrinks the weights to make the boosting process more conservative.\n",
    "- max_depth, max depth of the tree. Increasing it increases the model complexity.\n",
    "- gamma, specifies the min loss reduction required to do a plit.\n",
    "\n",
    "If at least one of the parameters is a distribution, sampling with replacement is used for a random search. If all parameters are provided as a list, sampling without replacement is used. Each list is treated as a uniform distribution."
   ]
  },
  {
   "cell_type": "code",
   "execution_count": 30,
   "metadata": {},
   "outputs": [],
   "source": [
    "## Define the search space\n",
    "param_grid_random = {\n",
    "    'learning_rate': [0.0001, 0.001, 0.01, 0.1, 0.9],\n",
    "    'max_depth': range(3,21,3),\n",
    "    'gamma': [i/10.0 for i in range(0,5)],\n",
    "    'colsample_bytree': [i/10.0 for i in range(3,10)],\n",
    "    'reg_alpha': [1e-5, 1e-2, 0.1, 1, 10, 100],\n",
    "    'reg_lambda': [1e-5, 1e-2, 0.1, 1, 10, 100],\n",
    "    'n_estimators': range(100,1001,100)\n",
    "}\n",
    "\n",
    "scoring = ['recall']\n",
    "\n",
    "kfold = StratifiedKFold(n_splits=3, shuffle=True, random_state=2022)"
   ]
  },
  {
   "cell_type": "markdown",
   "metadata": {},
   "source": [
    "For random search, we need to specify a value for n_iter, the number of parameter combinations sampled. So we are randomly testing 64 combinations for this case."
   ]
  },
  {
   "cell_type": "code",
   "execution_count": 31,
   "metadata": {},
   "outputs": [
    {
     "name": "stderr",
     "output_type": "stream",
     "text": [
      "c:\\Users\\Convergytics\\anaconda3\\envs\\kamenv\\lib\\site-packages\\xgboost\\sklearn.py:1224: UserWarning: The use of label encoder in XGBClassifier is deprecated and will be removed in a future release. To remove this warning, do the following: 1) Pass option use_label_encoder=False when constructing XGBClassifier object; and 2) Encode your labels (y) as integers starting with 0, i.e. 0, 1, 2, ..., [num_class - 1].\n",
      "  warnings.warn(label_encoder_deprecation_msg, UserWarning)\n",
      "c:\\Users\\Convergytics\\anaconda3\\envs\\kamenv\\lib\\site-packages\\xgboost\\data.py:262: FutureWarning: pandas.Int64Index is deprecated and will be removed from pandas in a future version. Use pandas.Index with the appropriate dtype instead.\n",
      "  elif isinstance(data.columns, (pd.Int64Index, pd.RangeIndex)):\n"
     ]
    },
    {
     "name": "stdout",
     "output_type": "stream",
     "text": [
      "[18:26:50] WARNING: D:\\bld\\xgboost-split_1645118015404\\work\\src\\learner.cc:1115: Starting in XGBoost 1.3.0, the default evaluation metric used with the objective 'binary:logistic' was changed from 'error' to 'logloss'. Explicitly set eval_metric if you'd like to restore the old behavior.\n"
     ]
    },
    {
     "data": {
      "text/plain": [
       "RandomizedSearchCV(cv=StratifiedKFold(n_splits=3, random_state=2022, shuffle=True),\n",
       "                   estimator=XGBClassifier(base_score=0.5, booster='gbtree',\n",
       "                                           colsample_bylevel=1,\n",
       "                                           colsample_bynode=1,\n",
       "                                           colsample_bytree=1,\n",
       "                                           enable_categorical=False, gamma=0,\n",
       "                                           gpu_id=-1, importance_type=None,\n",
       "                                           interaction_constraints='',\n",
       "                                           learning_rate=0.300000012,\n",
       "                                           max_delta_step=0, max_depth=6,\n",
       "                                           min_child...\n",
       "                                           verbosity=None),\n",
       "                   n_iter=64, n_jobs=-1,\n",
       "                   param_distributions={'colsample_bytree': [0.3, 0.4, 0.5, 0.6,\n",
       "                                                             0.7, 0.8, 0.9],\n",
       "                                        'gamma': [0.0, 0.1, 0.2, 0.3, 0.4],\n",
       "                                        'learning_rate': [0.0001, 0.001, 0.01,\n",
       "                                                          0.1, 0.9],\n",
       "                                        'max_depth': range(3, 21, 3),\n",
       "                                        'n_estimators': range(100, 1001, 100),\n",
       "                                        'reg_alpha': [1e-05, 0.01, 0.1, 1, 10,\n",
       "                                                      100],\n",
       "                                        'reg_lambda': [1e-05, 0.01, 0.1, 1, 10,\n",
       "                                                       100]},\n",
       "                   refit='recall', scoring=['recall'])"
      ]
     },
     "execution_count": 31,
     "metadata": {},
     "output_type": "execute_result"
    }
   ],
   "source": [
    "## Define random search\n",
    "random_search = RandomizedSearchCV(estimator=xgboost, \n",
    "                                   param_distributions=param_grid_random, \n",
    "                                   scoring=scoring, \n",
    "                                   refit='recall', \n",
    "                                   cv=kfold, \n",
    "                                   n_iter=64, \n",
    "                                   n_jobs=-1, \n",
    "                                   verbose=0)\n",
    "\n",
    "# Fit the random search\n",
    "random_result = random_search.fit(X_train_transformed, y_train)\n",
    "\n",
    "random_result"
   ]
  },
  {
   "cell_type": "code",
   "execution_count": 32,
   "metadata": {},
   "outputs": [
    {
     "name": "stdout",
     "output_type": "stream",
     "text": [
      "The best score is 0.993\n",
      "The best score standard deviation is 0.005\n",
      "The best hyperparameters are {'reg_lambda': 0.01, 'reg_alpha': 1e-05, 'n_estimators': 1000, 'max_depth': 15, 'learning_rate': 0.01, 'gamma': 0.2, 'colsample_bytree': 0.4}\n"
     ]
    }
   ],
   "source": [
    "print(f'The best score is {random_result.best_score_:.3f}')\n",
    "print(f'The best score standard deviation is {random_result.cv_results_[\"std_test_recall\"][random_result.best_index_]:.3f}')\n",
    "print(f'The best hyperparameters are {random_result.best_params_}')"
   ]
  },
  {
   "cell_type": "code",
   "execution_count": 33,
   "metadata": {},
   "outputs": [
    {
     "name": "stdout",
     "output_type": "stream",
     "text": [
      "The recall value for the random search XGBoost model is 0.985\n"
     ]
    },
    {
     "name": "stderr",
     "output_type": "stream",
     "text": [
      "c:\\Users\\Convergytics\\anaconda3\\envs\\kamenv\\lib\\site-packages\\xgboost\\data.py:262: FutureWarning: pandas.Int64Index is deprecated and will be removed from pandas in a future version. Use pandas.Index with the appropriate dtype instead.\n",
      "  elif isinstance(data.columns, (pd.Int64Index, pd.RangeIndex)):\n"
     ]
    }
   ],
   "source": [
    "random_predictions = random_result.predict(X_test_transformed)\n",
    "\n",
    "random_predictions_prob = random_result.predict_proba(X_test_transformed)[:,1]\n",
    "\n",
    "precision, recall, fscore, support = score(y_test, random_predictions)\n",
    "\n",
    "print(f'The recall value for the random search XGBoost model is {recall[1]:.3f}')"
   ]
  },
  {
   "cell_type": "markdown",
   "metadata": {},
   "source": [
    "The random search recall value on the test dataset is creased from 97.1% to 98.5%."
   ]
  },
  {
   "cell_type": "markdown",
   "metadata": {},
   "source": [
    "Bayesian Optimization\n",
    "\n",
    "We defined an objective function that takes in the parameters and returns the loss. Since the goal is to maximize the recall value, we set max(scores) as the best_score, and set the loss to be -best_score. This setting ensures maximizing recall while minimizing the loss.\n",
    "\n",
    "fmin is used to optimize the objective function. Hyperopt currently has three algorithms. They are random search, Tree of Parzen Estimators(TPE) and adaptive TPE. We are using TPE as the search algorithm."
   ]
  },
  {
   "cell_type": "code",
   "execution_count": 34,
   "metadata": {},
   "outputs": [
    {
     "name": "stdout",
     "output_type": "stream",
     "text": [
      "100%|██████████| 64/64 [00:14<00:00,  4.37trial/s, best loss: -1.0]               \n"
     ]
    }
   ],
   "source": [
    "# Space\n",
    "space = {\n",
    "    'learning_rate': hp.choice('learning_rate', [0.0001, 0.001, 0.01, 0.1, 1.0]),\n",
    "    'max_depth': hp.choice('max_depth', range(3,21,3)),\n",
    "    'gamma': hp.choice('gamma', [i/10.0 for i in range(0,5)]),\n",
    "    'colsample_bytree': hp.choice('colsample_bytree', [i/10.0 for i in range(3,10)]),\n",
    "    'reg_alpha': hp.choice('reg_alpha', [1e-5, 1e-2, 0.1, 1, 10, 100]),\n",
    "    'reg_lambda': hp.choice('reg_lambda', [1e-5, 1e-2, 0.1, 1, 10, 100]),\n",
    "}\n",
    "\n",
    "kfold = StratifiedKFold(n_splits=3, shuffle=True, random_state=2022)\n",
    "\n",
    "def objective(params):\n",
    "    xgboost = XGBClassifier(seed=2022, **params)\n",
    "    scores = cross_val_score(xgboost, X_train_transformed, y_train, scoring='recall', cv=kfold, n_jobs=-1)\n",
    "    \n",
    "    # extract the best score\n",
    "    best_score = max(scores)\n",
    "    \n",
    "    # loss must be minimized\n",
    "    loss = - best_score\n",
    "    \n",
    "    # dictionary with information for evaluation\n",
    "    return {'loss': loss, 'status': STATUS_OK}\n",
    "\n",
    "# Trials object to store all information about the optimization\n",
    "bayes_trials = Trials()\n",
    "\n",
    "# Optimize\n",
    "best = fmin(fn=objective, space=space, algo=tpe.suggest, max_evals=64, trials=bayes_trials)"
   ]
  },
  {
   "cell_type": "markdown",
   "metadata": {},
   "source": [
    "def objective(params):\n",
    "    cv_result = cross_val_score(XGBClassifier(seed=2022,**params), X_train_transformed, y_train, cv=kfold, scoring='recall')\n",
    "    return {'loss': 1 - cv_result.mean(), 'status': STATUS_OK}"
   ]
  },
  {
   "cell_type": "markdown",
   "metadata": {},
   "source": [
    "After the bayesian optimization search, we get the best loss of -1.0, meaning that the recall value is close to 100%."
   ]
  },
  {
   "cell_type": "code",
   "execution_count": 35,
   "metadata": {},
   "outputs": [
    {
     "name": "stdout",
     "output_type": "stream",
     "text": [
      "{'colsample_bytree': 1, 'gamma': 3, 'learning_rate': 4, 'max_depth': 1, 'reg_alpha': 2, 'reg_lambda': 0}\n",
      "{'colsample_bytree': 0.4, 'gamma': 0.3, 'learning_rate': 1.0, 'max_depth': 6, 'reg_alpha': 0.1, 'reg_lambda': 1e-05}\n"
     ]
    }
   ],
   "source": [
    "## Print the index of the best hyperparameter\n",
    "print(best)\n",
    "\n",
    "# Print the values of the best hyperparameters\n",
    "print(space_eval(space, best))"
   ]
  },
  {
   "cell_type": "code",
   "execution_count": 36,
   "metadata": {},
   "outputs": [
    {
     "name": "stdout",
     "output_type": "stream",
     "text": [
      "[18:50:16] WARNING: D:\\bld\\xgboost-split_1645118015404\\work\\src\\learner.cc:1115: Starting in XGBoost 1.3.0, the default evaluation metric used with the objective 'binary:logistic' was changed from 'error' to 'logloss'. Explicitly set eval_metric if you'd like to restore the old behavior.\n"
     ]
    },
    {
     "name": "stderr",
     "output_type": "stream",
     "text": [
      "c:\\Users\\Convergytics\\anaconda3\\envs\\kamenv\\lib\\site-packages\\xgboost\\sklearn.py:1224: UserWarning: The use of label encoder in XGBClassifier is deprecated and will be removed in a future release. To remove this warning, do the following: 1) Pass option use_label_encoder=False when constructing XGBClassifier object; and 2) Encode your labels (y) as integers starting with 0, i.e. 0, 1, 2, ..., [num_class - 1].\n",
      "  warnings.warn(label_encoder_deprecation_msg, UserWarning)\n",
      "c:\\Users\\Convergytics\\anaconda3\\envs\\kamenv\\lib\\site-packages\\xgboost\\data.py:262: FutureWarning: pandas.Int64Index is deprecated and will be removed from pandas in a future version. Use pandas.Index with the appropriate dtype instead.\n",
      "  elif isinstance(data.columns, (pd.Int64Index, pd.RangeIndex)):\n"
     ]
    }
   ],
   "source": [
    "## Train model using the best hyperparameters\n",
    "xgboost_best = XGBClassifier(seed=2022,\n",
    "                             colsample_bytree=space_eval(space, best)['colsample_bytree'],\n",
    "                             gamma=space_eval(space, best)['gamma'],\n",
    "                             learning_rate=space_eval(space, best)['learning_rate'],\n",
    "                             max_depth=space_eval(space, best)['max_depth'],\n",
    "                             reg_alpha=space_eval(space, best)['reg_alpha'],\n",
    "                             reg_lambda=space_eval(space, best)['reg_lambda'],\n",
    ").fit(X_train_transformed, y_train)"
   ]
  },
  {
   "cell_type": "code",
   "execution_count": 37,
   "metadata": {},
   "outputs": [
    {
     "name": "stdout",
     "output_type": "stream",
     "text": [
      "The recall value for the bayesian optimization XGBoost model is 0.985\n"
     ]
    },
    {
     "name": "stderr",
     "output_type": "stream",
     "text": [
      "c:\\Users\\Convergytics\\anaconda3\\envs\\kamenv\\lib\\site-packages\\xgboost\\data.py:262: FutureWarning: pandas.Int64Index is deprecated and will be removed from pandas in a future version. Use pandas.Index with the appropriate dtype instead.\n",
      "  elif isinstance(data.columns, (pd.Int64Index, pd.RangeIndex)):\n"
     ]
    }
   ],
   "source": [
    "# Make predictions using the best model\n",
    "bayesian_opt_predictions = xgboost_best.predict(X_test_transformed)\n",
    "\n",
    "# Get predicted probabilities\n",
    "bayesian_opt_predictions_prob = xgboost_best.predict_proba(X_test_transformed)[:,1]\n",
    "\n",
    "# Get performance metrics\n",
    "precision, recall, fscore, support = score(y_test, bayesian_opt_predictions)\n",
    "\n",
    "# Print result\n",
    "print(f'The recall value for the bayesian optimization XGBoost model is {recall[1]:.3f}')"
   ]
  },
  {
   "cell_type": "markdown",
   "metadata": {},
   "source": [
    "The recall value on the test dataset is 98.5%, the same as the random search result."
   ]
  }
 ],
 "metadata": {
  "interpreter": {
   "hash": "e54fd939f9446c3e30a56a572604a04e8a1c6e94256552ff3e12b33cfb31c043"
  },
  "kernelspec": {
   "display_name": "Python 3.9.7 ('kamenv')",
   "language": "python",
   "name": "python3"
  },
  "language_info": {
   "codemirror_mode": {
    "name": "ipython",
    "version": 3
   },
   "file_extension": ".py",
   "mimetype": "text/x-python",
   "name": "python",
   "nbconvert_exporter": "python",
   "pygments_lexer": "ipython3",
   "version": "3.9.7"
  },
  "orig_nbformat": 4
 },
 "nbformat": 4,
 "nbformat_minor": 2
}
